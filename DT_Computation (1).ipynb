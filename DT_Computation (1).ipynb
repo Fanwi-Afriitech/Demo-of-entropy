{
  "nbformat": 4,
  "nbformat_minor": 0,
  "metadata": {
    "colab": {
      "provenance": []
    },
    "kernelspec": {
      "name": "python3",
      "display_name": "Python 3"
    },
    "language_info": {
      "name": "python"
    }
  },
  "cells": [
    {
      "cell_type": "markdown",
      "source": [
        "$ entropy =  - \\ sum_i p_i log_2 p_i $\n"
      ],
      "metadata": {
        "id": "GUPGxda9elU3"
      }
    },
    {
      "cell_type": "code",
      "source": [
        "import numpy as np"
      ],
      "metadata": {
        "id": "Vh3sLNMzevNs"
      },
      "execution_count": 2,
      "outputs": []
    },
    {
      "cell_type": "code",
      "source": [
        "(-10/10 * np.log2(10/10))"
      ],
      "metadata": {
        "colab": {
          "base_uri": "https://localhost:8080/"
        },
        "id": "OxMPXX7BfEql",
        "outputId": "d826cc91-2ab0-48b5-d22b-6de95c062a27"
      },
      "execution_count": 3,
      "outputs": [
        {
          "output_type": "execute_result",
          "data": {
            "text/plain": [
              "-0.0"
            ]
          },
          "metadata": {},
          "execution_count": 3
        }
      ]
    },
    {
      "cell_type": "code",
      "source": [
        "(-5/10 * np.log2(5/10)) + (-5/10 * np.log2(5/10))"
      ],
      "metadata": {
        "colab": {
          "base_uri": "https://localhost:8080/"
        },
        "id": "WoLTGT9MhBIs",
        "outputId": "d815ecd5-7a20-4720-9d61-e023a7433725"
      },
      "execution_count": 4,
      "outputs": [
        {
          "output_type": "execute_result",
          "data": {
            "text/plain": [
              "1.0"
            ]
          },
          "metadata": {},
          "execution_count": 4
        }
      ]
    },
    {
      "cell_type": "markdown",
      "source": [
        "entropy at the left child"
      ],
      "metadata": {
        "id": "KerHfGlvhLsr"
      }
    },
    {
      "cell_type": "code",
      "source": [
        "(-2/6 * np.log2(2/6)) + (-4/6 * np.log2(4/6))"
      ],
      "metadata": {
        "colab": {
          "base_uri": "https://localhost:8080/"
        },
        "id": "uL_RWH9EhJzF",
        "outputId": "d6337878-d1fb-4745-ba2b-20d0a08af994"
      },
      "execution_count": 5,
      "outputs": [
        {
          "output_type": "execute_result",
          "data": {
            "text/plain": [
              "0.9182958340544896"
            ]
          },
          "metadata": {},
          "execution_count": 5
        }
      ]
    },
    {
      "cell_type": "code",
      "source": [
        "#entropy at the left child is 0.9182958340544896"
      ],
      "metadata": {
        "id": "49XLkAAzhXru"
      },
      "execution_count": 6,
      "outputs": []
    },
    {
      "cell_type": "code",
      "source": [
        "(-3/4 * np.log2(3/4)) + (-1/4 * np.log2(1/4))"
      ],
      "metadata": {
        "colab": {
          "base_uri": "https://localhost:8080/"
        },
        "id": "eBGB3Ft0heBQ",
        "outputId": "0723692d-a898-4fff-da1f-ad6a8e33f6d7"
      },
      "execution_count": 7,
      "outputs": [
        {
          "output_type": "execute_result",
          "data": {
            "text/plain": [
              "0.8112781244591328"
            ]
          },
          "metadata": {},
          "execution_count": 7
        }
      ]
    },
    {
      "cell_type": "code",
      "source": [
        "#entropy for the right child : 0.8112781244591328"
      ],
      "metadata": {
        "id": "iB-_hRAnhiKB"
      },
      "execution_count": 8,
      "outputs": []
    },
    {
      "cell_type": "code",
      "source": [
        "#getting the weighted entropy"
      ],
      "metadata": {
        "id": "_obIRwwkhnx0"
      },
      "execution_count": 9,
      "outputs": []
    },
    {
      "cell_type": "code",
      "source": [
        "(6/10 * 0.9182958340544896) #left child weight"
      ],
      "metadata": {
        "colab": {
          "base_uri": "https://localhost:8080/"
        },
        "id": "B0gy53LbhqaX",
        "outputId": "84cb8e30-3b79-45aa-e616-a0da0d0ae51b"
      },
      "execution_count": 10,
      "outputs": [
        {
          "output_type": "execute_result",
          "data": {
            "text/plain": [
              "0.5509775004326937"
            ]
          },
          "metadata": {},
          "execution_count": 10
        }
      ]
    },
    {
      "cell_type": "code",
      "source": [
        "(4/10 * 0.8112781244591328) #right child weight"
      ],
      "metadata": {
        "colab": {
          "base_uri": "https://localhost:8080/"
        },
        "id": "y6_HaLw2iO34",
        "outputId": "e7d70e34-6f3f-4e50-db47-52aa85f807c6"
      },
      "execution_count": 11,
      "outputs": [
        {
          "output_type": "execute_result",
          "data": {
            "text/plain": [
              "0.32451124978365314"
            ]
          },
          "metadata": {},
          "execution_count": 11
        }
      ]
    },
    {
      "cell_type": "code",
      "source": [
        "#get the sum of all of it"
      ],
      "metadata": {
        "id": "JG981vi2iVt5"
      },
      "execution_count": 12,
      "outputs": []
    },
    {
      "cell_type": "code",
      "source": [
        "0.5509775004326937 + 0.32451124978365314"
      ],
      "metadata": {
        "colab": {
          "base_uri": "https://localhost:8080/"
        },
        "id": "qMdK0Y9biYDu",
        "outputId": "f16f079f-3666-4c71-d4aa-551cbbc82eed"
      },
      "execution_count": 13,
      "outputs": [
        {
          "output_type": "execute_result",
          "data": {
            "text/plain": [
              "0.8754887502163469"
            ]
          },
          "metadata": {},
          "execution_count": 13
        }
      ]
    },
    {
      "cell_type": "code",
      "source": [
        "1 - 0.8754887502163469"
      ],
      "metadata": {
        "colab": {
          "base_uri": "https://localhost:8080/"
        },
        "id": "M6K3R5EOic2S",
        "outputId": "33d0a4bd-afa2-489b-cf46-49d6041c8d69"
      },
      "execution_count": 14,
      "outputs": [
        {
          "output_type": "execute_result",
          "data": {
            "text/plain": [
              "0.12451124978365313"
            ]
          },
          "metadata": {},
          "execution_count": 14
        }
      ]
    },
    {
      "cell_type": "code",
      "source": [
        "# therefore the information gain is: 0.12451124978365313"
      ],
      "metadata": {
        "id": "S5aScv-ZiiZN"
      },
      "execution_count": 15,
      "outputs": []
    },
    {
      "cell_type": "code",
      "source": [
        "(-2/4 * np.log2(2/4)) + (-2/4 * np.log2(2/4))"
      ],
      "metadata": {
        "id": "VqzKqyZ0imxG",
        "colab": {
          "base_uri": "https://localhost:8080/"
        },
        "outputId": "cdcfdf2c-7043-414a-9c9f-2955a7a61b77"
      },
      "execution_count": 16,
      "outputs": [
        {
          "output_type": "execute_result",
          "data": {
            "text/plain": [
              "1.0"
            ]
          },
          "metadata": {},
          "execution_count": 16
        }
      ]
    },
    {
      "cell_type": "code",
      "source": [
        "#entropy at the root is = 1.0"
      ],
      "metadata": {
        "id": "XwSdbsZgv3ip"
      },
      "execution_count": 17,
      "outputs": []
    },
    {
      "cell_type": "code",
      "source": [
        "#left child"
      ],
      "metadata": {
        "id": "sa__kxzswL0z"
      },
      "execution_count": 18,
      "outputs": []
    },
    {
      "cell_type": "code",
      "source": [
        "(-2/3 * np.log2(2/3)) + (-1/3 * np.log2(1/3))"
      ],
      "metadata": {
        "colab": {
          "base_uri": "https://localhost:8080/"
        },
        "id": "juLKk8hZwNwi",
        "outputId": "41528a27-3894-4063-a16e-6e6e1be094eb"
      },
      "execution_count": 19,
      "outputs": [
        {
          "output_type": "execute_result",
          "data": {
            "text/plain": [
              "0.9182958340544896"
            ]
          },
          "metadata": {},
          "execution_count": 19
        }
      ]
    },
    {
      "cell_type": "code",
      "source": [
        "#entropy at the left child is = 0.9182958340544896"
      ],
      "metadata": {
        "id": "9b645S4wwVjq"
      },
      "execution_count": 20,
      "outputs": []
    },
    {
      "cell_type": "code",
      "source": [
        "#right child"
      ],
      "metadata": {
        "id": "8D13B9eswaxQ"
      },
      "execution_count": 21,
      "outputs": []
    },
    {
      "cell_type": "code",
      "source": [
        "(-1/1 * np.log2(1/1))"
      ],
      "metadata": {
        "colab": {
          "base_uri": "https://localhost:8080/"
        },
        "id": "wm7pfuVMwfTw",
        "outputId": "17872523-ac58-4ac0-de3e-632cb83351f1"
      },
      "execution_count": 22,
      "outputs": [
        {
          "output_type": "execute_result",
          "data": {
            "text/plain": [
              "-0.0"
            ]
          },
          "metadata": {},
          "execution_count": 22
        }
      ]
    },
    {
      "cell_type": "code",
      "source": [
        "#entropy at the right child = 0"
      ],
      "metadata": {
        "id": "oPU6v5iHwkSG"
      },
      "execution_count": 23,
      "outputs": []
    },
    {
      "cell_type": "code",
      "source": [
        "#weighted entropy for left child"
      ],
      "metadata": {
        "id": "NxJ6ccEdwoYc"
      },
      "execution_count": 24,
      "outputs": []
    },
    {
      "cell_type": "code",
      "source": [
        "(0.9182958340544896 * 3/4 )"
      ],
      "metadata": {
        "colab": {
          "base_uri": "https://localhost:8080/"
        },
        "id": "xq6sOz7AwqSn",
        "outputId": "4d56f2e8-4299-403b-a0e7-25b0d080ea6a"
      },
      "execution_count": 25,
      "outputs": [
        {
          "output_type": "execute_result",
          "data": {
            "text/plain": [
              "0.6887218755408672"
            ]
          },
          "metadata": {},
          "execution_count": 25
        }
      ]
    },
    {
      "cell_type": "code",
      "source": [
        "#weighted entropy for right child"
      ],
      "metadata": {
        "id": "jz56j-01w1Dz"
      },
      "execution_count": 26,
      "outputs": []
    },
    {
      "cell_type": "code",
      "source": [
        "(0 * 1/4 )"
      ],
      "metadata": {
        "colab": {
          "base_uri": "https://localhost:8080/"
        },
        "id": "Kds2CS2Xw3po",
        "outputId": "9d0820d2-eeb6-40ca-e066-3d34d9714611"
      },
      "execution_count": 27,
      "outputs": [
        {
          "output_type": "execute_result",
          "data": {
            "text/plain": [
              "0.0"
            ]
          },
          "metadata": {},
          "execution_count": 27
        }
      ]
    },
    {
      "cell_type": "code",
      "source": [
        "#sum of the weighted entropy"
      ],
      "metadata": {
        "id": "zcGfHbY7w8rU"
      },
      "execution_count": 28,
      "outputs": []
    },
    {
      "cell_type": "code",
      "source": [
        "0.6887218755408672 + 0.0"
      ],
      "metadata": {
        "colab": {
          "base_uri": "https://localhost:8080/"
        },
        "id": "EPdkqRpUxAc_",
        "outputId": "d0b767f9-663c-4e68-cc7d-dc7b5f035208"
      },
      "execution_count": 29,
      "outputs": [
        {
          "output_type": "execute_result",
          "data": {
            "text/plain": [
              "0.6887218755408672"
            ]
          },
          "metadata": {},
          "execution_count": 29
        }
      ]
    },
    {
      "cell_type": "code",
      "source": [
        "#information gain"
      ],
      "metadata": {
        "id": "brCIYlufxDrw"
      },
      "execution_count": 30,
      "outputs": []
    },
    {
      "cell_type": "code",
      "source": [
        "#root entropy - sum of the weighted entropy"
      ],
      "metadata": {
        "id": "t5KvBI-hxFdc"
      },
      "execution_count": 31,
      "outputs": []
    },
    {
      "cell_type": "code",
      "source": [
        "1 - 0.6887218755408672"
      ],
      "metadata": {
        "colab": {
          "base_uri": "https://localhost:8080/"
        },
        "id": "6ngksm-zxKzz",
        "outputId": "8cbc03d0-89e2-407a-e73b-9229c682d21d"
      },
      "execution_count": 32,
      "outputs": [
        {
          "output_type": "execute_result",
          "data": {
            "text/plain": [
              "0.31127812445913283"
            ]
          },
          "metadata": {},
          "execution_count": 32
        }
      ]
    },
    {
      "cell_type": "code",
      "source": [
        "# so the information gain of using x as the split = 0.31127812445913283"
      ],
      "metadata": {
        "id": "w66rQ0JyxNQm"
      },
      "execution_count": 33,
      "outputs": []
    },
    {
      "cell_type": "code",
      "source": [
        "# next we calculate for y"
      ],
      "metadata": {
        "id": "63hctHQJxTRM"
      },
      "execution_count": 34,
      "outputs": []
    },
    {
      "cell_type": "code",
      "source": [
        "# root = 1.0"
      ],
      "metadata": {
        "id": "SdmFvRiGxXzU"
      },
      "execution_count": 35,
      "outputs": []
    },
    {
      "cell_type": "code",
      "source": [
        "#entropy at the left"
      ],
      "metadata": {
        "id": "d9MHvK-Ix804"
      },
      "execution_count": 36,
      "outputs": []
    },
    {
      "cell_type": "code",
      "source": [
        "(-2/2 * np.log2(2/2))"
      ],
      "metadata": {
        "colab": {
          "base_uri": "https://localhost:8080/"
        },
        "id": "c548VDVwx-mN",
        "outputId": "b3fc0182-2323-47d7-897d-c912ce97d878"
      },
      "execution_count": 37,
      "outputs": [
        {
          "output_type": "execute_result",
          "data": {
            "text/plain": [
              "-0.0"
            ]
          },
          "metadata": {},
          "execution_count": 37
        }
      ]
    },
    {
      "cell_type": "code",
      "source": [
        "#entropy at the right"
      ],
      "metadata": {
        "id": "-j3_4Ge6yBE3"
      },
      "execution_count": 38,
      "outputs": []
    },
    {
      "cell_type": "code",
      "source": [
        "(-2/2 * np.log2(2/2))"
      ],
      "metadata": {
        "colab": {
          "base_uri": "https://localhost:8080/"
        },
        "id": "nZsvOjmRyDPb",
        "outputId": "1edf8e70-3432-446d-d7b5-aa4d7502b480"
      },
      "execution_count": 39,
      "outputs": [
        {
          "output_type": "execute_result",
          "data": {
            "text/plain": [
              "-0.0"
            ]
          },
          "metadata": {},
          "execution_count": 39
        }
      ]
    },
    {
      "cell_type": "code",
      "source": [
        "#sum of the weight entropy"
      ],
      "metadata": {
        "id": "J9X7GELHyE5w"
      },
      "execution_count": 40,
      "outputs": []
    },
    {
      "cell_type": "code",
      "source": [
        "(0 * 2/4) + (0*2/4)"
      ],
      "metadata": {
        "colab": {
          "base_uri": "https://localhost:8080/"
        },
        "id": "tezGJhmGyH7z",
        "outputId": "e43227e7-8937-45b6-9f9c-de05c2cc1ee5"
      },
      "execution_count": 41,
      "outputs": [
        {
          "output_type": "execute_result",
          "data": {
            "text/plain": [
              "0.0"
            ]
          },
          "metadata": {},
          "execution_count": 41
        }
      ]
    },
    {
      "cell_type": "code",
      "source": [
        "#information gain = 1 - 0"
      ],
      "metadata": {
        "id": "-8FvWQ8OyOnZ"
      },
      "execution_count": 42,
      "outputs": []
    },
    {
      "cell_type": "code",
      "source": [
        "#the information gain is = 1"
      ],
      "metadata": {
        "id": "OHid357BySBE"
      },
      "execution_count": null,
      "outputs": []
    }
  ]
}